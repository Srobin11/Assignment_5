{
 "cells": [
  {
   "cell_type": "code",
   "execution_count": 1,
   "metadata": {},
   "outputs": [],
   "source": [
    "from sqlalchemy import create_engine\n",
    "from sqlalchemy import MetaData\n",
    "from sqlalchemy import Table, Column\n",
    "from sqlalchemy import Integer, String\n",
    "from sqlalchemy import sql, select, join, desc\n",
    "import pandas as pd\n",
    "import matplotlib.pyplot as plt\n",
    "\n",
    "# Create a Engine object \n",
    "engine = create_engine('sqlite:////home/sethrobinson/world.sqlite')\n",
    "\n",
    "# Connect to the database\n",
    "conn = engine.connect()\n",
    "\n",
    "# Read the metadata from the existing database.\n",
    "DBInfo=MetaData(engine)"
   ]
  },
  {
   "cell_type": "code",
   "execution_count": 2,
   "metadata": {},
   "outputs": [
    {
     "name": "stdout",
     "output_type": "stream",
     "text": [
      "('Palau', 1994)\n",
      "('Czech Republic', 1993)\n",
      "<sqlalchemy.engine.result.ResultProxy object at 0x2afa51b5ab80>\n"
     ]
    }
   ],
   "source": [
    "### Question 1\n",
    "##############\n",
    "\n",
    "city=Table('city', DBInfo, autoload=True)\n",
    "country=Table('country', DBInfo, autoload=True)\n",
    "\n",
    "query=select([country.c.Name, country.c.IndepYear])\\\n",
    "             .order_by(desc(country.c.IndepYear))\\\n",
    "             .limit(2)\n",
    "result = conn.execute(query)\n",
    "for row in result:\n",
    "    print(row)\n",
    "print(result)"
   ]
  },
  {
   "cell_type": "code",
   "execution_count": 3,
   "metadata": {},
   "outputs": [
    {
     "name": "stdout",
     "output_type": "stream",
     "text": [
      "INSERT INTO country (\"Code\", \"Name\", \"Continent\", \"Region\", \"SurfaceArea\", \"IndepYear\", \"Population\", \"LifeExpectancy\", \"GNP\", \"GNPOld\", \"LocalName\", \"GovernmentForm\", \"HeadOfState\", \"Capital\", \"Code2\") VALUES (?, ?, ?, ?, ?, ?, ?, ?, ?, ?, ?, ?, ?, ?, ?)\n"
     ]
    }
   ],
   "source": [
    "### Question 2\n",
    "##############\n",
    "\n",
    "\n",
    "print(country.insert())"
   ]
  },
  {
   "cell_type": "code",
   "execution_count": 4,
   "metadata": {},
   "outputs": [
    {
     "name": "stdout",
     "output_type": "stream",
     "text": [
      "INSERT INTO country (\"Name\", \"IndepYear\") VALUES (?, ?)\n"
     ]
    },
    {
     "data": {
      "text/plain": [
       "<sqlalchemy.engine.base.Connection at 0x2afa7875f6d0>"
      ]
     },
     "execution_count": 4,
     "metadata": {},
     "output_type": "execute_result"
    }
   ],
   "source": [
    "my_insert=country.insert().values(Name = 'South Sudan', IndepYear = '2011')\n",
    "print(my_insert)\n",
    "\n",
    "conn=engine.connect()\n",
    "conn"
   ]
  },
  {
   "cell_type": "code",
   "execution_count": 5,
   "metadata": {},
   "outputs": [],
   "source": [
    "result = conn.execute(my_insert)"
   ]
  },
  {
   "cell_type": "code",
   "execution_count": 6,
   "metadata": {},
   "outputs": [
    {
     "name": "stdout",
     "output_type": "stream",
     "text": [
      "('South Korea', 1948)\n",
      "('South Georgia and the South Sandwich Islands', None)\n",
      "('South Africa', 1910)\n",
      "('South Sudan', 2011)\n"
     ]
    }
   ],
   "source": [
    "query=select([country.c.Name, country.c.IndepYear]).where(country.c.Name.like('South%'))\n",
    "result = conn.execute(query)\n",
    "for row in result:\n",
    "    print(row)"
   ]
  },
  {
   "cell_type": "code",
   "execution_count": 7,
   "metadata": {},
   "outputs": [
    {
     "name": "stdout",
     "output_type": "stream",
     "text": [
      "INSERT INTO city (\"ID\", \"Name\", \"CountryCode\", \"District\", \"Population\") VALUES (?, ?, ?, ?, ?)\n"
     ]
    }
   ],
   "source": [
    "### Question 3\n",
    "##############\n",
    "\n",
    "print(city.insert())"
   ]
  },
  {
   "cell_type": "code",
   "execution_count": 8,
   "metadata": {},
   "outputs": [
    {
     "name": "stdout",
     "output_type": "stream",
     "text": [
      "INSERT INTO city (\"Name\", \"Population\") VALUES (?, ?)\n"
     ]
    }
   ],
   "source": [
    "my_insert=city.insert().values(Name='Wau',Population=232910)\n",
    "print(my_insert)"
   ]
  },
  {
   "cell_type": "code",
   "execution_count": 9,
   "metadata": {},
   "outputs": [],
   "source": [
    "result = conn.execute(my_insert)"
   ]
  },
  {
   "cell_type": "code",
   "execution_count": 10,
   "metadata": {},
   "outputs": [
    {
     "name": "stdout",
     "output_type": "stream",
     "text": [
      "('Wau', 232910)\n"
     ]
    }
   ],
   "source": [
    "query=select([city.c.Name, city.c.Population]).where(city.c.Name.like('Wau%'))\n",
    "result = conn.execute(query)\n",
    "for row in result:\n",
    "    print(row)"
   ]
  },
  {
   "cell_type": "code",
   "execution_count": 11,
   "metadata": {},
   "outputs": [
    {
     "name": "stdout",
     "output_type": "stream",
     "text": [
      "INSERT INTO city (\"Name\", \"Population\") VALUES (?, ?)\n"
     ]
    }
   ],
   "source": [
    "my_insert=city.insert().values(Name='Malakal',Population=147450)\n",
    "print(my_insert)"
   ]
  },
  {
   "cell_type": "code",
   "execution_count": 12,
   "metadata": {},
   "outputs": [],
   "source": [
    "result = conn.execute(my_insert)"
   ]
  },
  {
   "cell_type": "code",
   "execution_count": 13,
   "metadata": {},
   "outputs": [
    {
     "name": "stdout",
     "output_type": "stream",
     "text": [
      "('Malakal', 147450)\n"
     ]
    }
   ],
   "source": [
    "query=select([city.c.Name, city.c.Population]).where(city.c.Name.like('Malakal%'))\n",
    "result = conn.execute(query)\n",
    "for row in result:\n",
    "    print(row)"
   ]
  },
  {
   "cell_type": "code",
   "execution_count": 14,
   "metadata": {},
   "outputs": [],
   "source": [
    "### Question 4\n",
    "##############\n",
    "\n",
    "# Select columns from country table\n",
    "query=select([country.c.Name, country.c.SurfaceArea, country.c.Population, country.c.Continent, country.c.GNP, country.c.LifeExpectancy, country.c.IndepYear])\n",
    "result = conn.execute(query)\n",
    "\n",
    "df=pd.read_sql(query, conn)"
   ]
  },
  {
   "cell_type": "code",
   "execution_count": 15,
   "metadata": {},
   "outputs": [
    {
     "data": {
      "text/plain": [
       "Text(0, 0.5, 'Life Expectancy')"
      ]
     },
     "execution_count": 15,
     "metadata": {},
     "output_type": "execute_result"
    },
    {
     "data": {
      "image/png": "[encoded data removed]",
      "text/plain": [
       "<Figure size 432x288 with 1 Axes>"
      ]
     },
     "metadata": {
      "needs_background": "light"
     },
     "output_type": "display_data"
    }
   ],
   "source": [
    "plt.scatter(df['GNP'], df['LifeExpectancy'], cmap='plasma')\n",
    "plt.xlabel('GNP')\n",
    "plt.ylabel('Life Expectancy')"
   ]
  },
  {
   "cell_type": "code",
   "execution_count": 16,
   "metadata": {},
   "outputs": [],
   "source": [
    "query = select([city.c.Population])\n",
    "result = conn.execute(query)\n",
    "\n",
    "df2=pd.read_sql(query, conn)"
   ]
  },
  {
   "cell_type": "code",
   "execution_count": 17,
   "metadata": {},
   "outputs": [
    {
     "data": {
      "text/html": [
       "<div>\n",
       "<style scoped>\n",
       "    .dataframe tbody tr th:only-of-type {\n",
       "        vertical-align: middle;\n",
       "    }\n",
       "\n",
       "    .dataframe tbody tr th {\n",
       "        vertical-align: top;\n",
       "    }\n",
       "\n",
       "    .dataframe thead th {\n",
       "        text-align: right;\n",
       "    }\n",
       "</style>\n",
       "<table border=\"1\" class=\"dataframe\">\n",
       "  <thead>\n",
       "    <tr style=\"text-align: right;\">\n",
       "      <th></th>\n",
       "      <th>Name</th>\n",
       "      <th>SurfaceArea</th>\n",
       "      <th>Population</th>\n",
       "      <th>Continent</th>\n",
       "      <th>GNP</th>\n",
       "      <th>LifeExpectancy</th>\n",
       "      <th>IndepYear</th>\n",
       "      <th>Ratio</th>\n",
       "    </tr>\n",
       "  </thead>\n",
       "  <tbody>\n",
       "    <tr>\n",
       "      <th>0</th>\n",
       "      <td>Aruba</td>\n",
       "      <td>193.0</td>\n",
       "      <td>103000</td>\n",
       "      <td>North America</td>\n",
       "      <td>828.0</td>\n",
       "      <td>78.4</td>\n",
       "      <td>NaN</td>\n",
       "      <td>17.281553</td>\n",
       "    </tr>\n",
       "    <tr>\n",
       "      <th>1</th>\n",
       "      <td>Afghanistan</td>\n",
       "      <td>652090.0</td>\n",
       "      <td>22720000</td>\n",
       "      <td>Asia</td>\n",
       "      <td>5976.0</td>\n",
       "      <td>45.9</td>\n",
       "      <td>1919.0</td>\n",
       "      <td>0.010453</td>\n",
       "    </tr>\n",
       "    <tr>\n",
       "      <th>2</th>\n",
       "      <td>Angola</td>\n",
       "      <td>1246700.0</td>\n",
       "      <td>12878000</td>\n",
       "      <td>Africa</td>\n",
       "      <td>6648.0</td>\n",
       "      <td>38.3</td>\n",
       "      <td>1975.0</td>\n",
       "      <td>0.014505</td>\n",
       "    </tr>\n",
       "    <tr>\n",
       "      <th>3</th>\n",
       "      <td>Anguilla</td>\n",
       "      <td>96.0</td>\n",
       "      <td>8000</td>\n",
       "      <td>North America</td>\n",
       "      <td>63.2</td>\n",
       "      <td>76.1</td>\n",
       "      <td>NaN</td>\n",
       "      <td>15.975000</td>\n",
       "    </tr>\n",
       "    <tr>\n",
       "      <th>4</th>\n",
       "      <td>Albania</td>\n",
       "      <td>28748.0</td>\n",
       "      <td>3401200</td>\n",
       "      <td>Europe</td>\n",
       "      <td>3205.0</td>\n",
       "      <td>71.6</td>\n",
       "      <td>1912.0</td>\n",
       "      <td>0.174445</td>\n",
       "    </tr>\n",
       "  </tbody>\n",
       "</table>\n",
       "</div>"
      ],
      "text/plain": [
       "          Name  SurfaceArea  Population      Continent     GNP  \\\n",
       "0        Aruba        193.0      103000  North America   828.0   \n",
       "1  Afghanistan     652090.0    22720000           Asia  5976.0   \n",
       "2       Angola    1246700.0    12878000         Africa  6648.0   \n",
       "3     Anguilla         96.0        8000  North America    63.2   \n",
       "4      Albania      28748.0     3401200         Europe  3205.0   \n",
       "\n",
       "   LifeExpectancy  IndepYear      Ratio  \n",
       "0            78.4        NaN  17.281553  \n",
       "1            45.9     1919.0   0.010453  \n",
       "2            38.3     1975.0   0.014505  \n",
       "3            76.1        NaN  15.975000  \n",
       "4            71.6     1912.0   0.174445  "
      ]
     },
     "execution_count": 17,
     "metadata": {},
     "output_type": "execute_result"
    }
   ],
   "source": [
    "df['Ratio'] = df2['Population']/df['Population']\n",
    "\n",
    "\n",
    "df.head()"
   ]
  },
  {
   "cell_type": "code",
   "execution_count": 18,
   "metadata": {},
   "outputs": [
    {
     "data": {
      "text/plain": [
       "Text(0, 0.5, 'Life Expectancy')"
      ]
     },
     "execution_count": 18,
     "metadata": {},
     "output_type": "execute_result"
    },
    {
     "data": {
      "image/png": "[encoded data removed]",
      "text/plain": [
       "<Figure size 432x288 with 1 Axes>"
      ]
     },
     "metadata": {
      "needs_background": "light"
     },
     "output_type": "display_data"
    }
   ],
   "source": [
    "plt.scatter(df['Ratio'], df['LifeExpectancy'], cmap='plasma')\n",
    "plt.xlabel('Ratio')\n",
    "plt.ylabel('Life Expectancy')"
   ]
  },
  {
   "cell_type": "code",
   "execution_count": null,
   "metadata": {},
   "outputs": [],
   "source": []
  }
 ],
 "metadata": {
  "kernelspec": {
   "display_name": "Python 3.8 (basic)",
   "language": "python",
   "name": "python3"
  },
  "language_info": {
   "codemirror_mode": {
    "name": "ipython",
    "version": 3
   },
   "file_extension": ".py",
   "mimetype": "text/x-python",
   "name": "python",
   "nbconvert_exporter": "python",
   "pygments_lexer": "ipython3",
   "version": "3.8.1"
  }
 },
 "nbformat": 4,
 "nbformat_minor": 4
}
